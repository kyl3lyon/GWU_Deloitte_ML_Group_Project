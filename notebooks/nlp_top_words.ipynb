{
 "cells": [
  {
   "cell_type": "markdown",
   "id": "e225fb58",
   "metadata": {},
   "source": [
    "### Classification - lower rating/price/rating_count impact high risk score on restaurants"
   ]
  },
  {
   "cell_type": "markdown",
   "id": "0e4d3c04",
   "metadata": {},
   "source": [
    "### Observing top 50 words for low rating restaurants "
   ]
  },
  {
   "cell_type": "code",
   "execution_count": 3,
   "id": "c3dc38a7",
   "metadata": {},
   "outputs": [],
   "source": [
    "# Import packages\n",
    "import warnings\n",
    "warnings.filterwarnings('ignore')\n",
    "import pandas as pd\n",
    "import numpy as np\n",
    "import matplotlib.pyplot as plt\n",
    "import seaborn as sn\n",
    "%matplotlib inline\n",
    "import nltk"
   ]
  },
  {
   "cell_type": "code",
   "execution_count": 4,
   "id": "e6222e5a",
   "metadata": {},
   "outputs": [
    {
     "name": "stderr",
     "output_type": "stream",
     "text": [
      "[nltk_data] Downloading package stopwords to /Users/vivi/nltk_data...\n",
      "[nltk_data]   Package stopwords is already up-to-date!\n"
     ]
    },
    {
     "data": {
      "text/plain": [
       "True"
      ]
     },
     "execution_count": 4,
     "metadata": {},
     "output_type": "execute_result"
    }
   ],
   "source": [
    "from nltk.corpus import stopwords\n",
    "nltk.download('stopwords')"
   ]
  },
  {
   "cell_type": "code",
   "execution_count": 43,
   "id": "fdcc39ee",
   "metadata": {},
   "outputs": [],
   "source": [
    "review =pd.read_csv('Reviews_Clean.csv')"
   ]
  },
  {
   "cell_type": "code",
   "execution_count": 44,
   "id": "11d229cc",
   "metadata": {},
   "outputs": [
    {
     "data": {
      "text/html": [
       "<div>\n",
       "<style scoped>\n",
       "    .dataframe tbody tr th:only-of-type {\n",
       "        vertical-align: middle;\n",
       "    }\n",
       "\n",
       "    .dataframe tbody tr th {\n",
       "        vertical-align: top;\n",
       "    }\n",
       "\n",
       "    .dataframe thead th {\n",
       "        text-align: right;\n",
       "    }\n",
       "</style>\n",
       "<table border=\"1\" class=\"dataframe\">\n",
       "  <thead>\n",
       "    <tr style=\"text-align: right;\">\n",
       "      <th></th>\n",
       "      <th>id</th>\n",
       "      <th>text_join</th>\n",
       "      <th>rating_min</th>\n",
       "      <th>rating_max</th>\n",
       "      <th>rating_mean</th>\n",
       "      <th>Reviews_Flag</th>\n",
       "      <th>Reviews_Flag_Count</th>\n",
       "    </tr>\n",
       "  </thead>\n",
       "  <tbody>\n",
       "    <tr>\n",
       "      <th>0</th>\n",
       "      <td>-0YTqofxupHzmd9SbKhjXw</td>\n",
       "      <td>despite how abundant the colombian food scene ...</td>\n",
       "      <td>4</td>\n",
       "      <td>5</td>\n",
       "      <td>4.666667</td>\n",
       "      <td>True</td>\n",
       "      <td>3</td>\n",
       "    </tr>\n",
       "    <tr>\n",
       "      <th>1</th>\n",
       "      <td>-0rMc_wb4gi6_sai0SadsQ</td>\n",
       "      <td>went here for dinner just to try something new...</td>\n",
       "      <td>4</td>\n",
       "      <td>5</td>\n",
       "      <td>4.333333</td>\n",
       "      <td>False</td>\n",
       "      <td>0</td>\n",
       "    </tr>\n",
       "    <tr>\n",
       "      <th>2</th>\n",
       "      <td>-2FAuHbWsc_rxuSaeYAhCw</td>\n",
       "      <td>simple things well executed can be beautiful. ...</td>\n",
       "      <td>3</td>\n",
       "      <td>5</td>\n",
       "      <td>4.000000</td>\n",
       "      <td>False</td>\n",
       "      <td>0</td>\n",
       "    </tr>\n",
       "    <tr>\n",
       "      <th>3</th>\n",
       "      <td>-2KLOAWzJ-wbUSC40WR8EA</td>\n",
       "      <td>beware! we came here to kill some time while w...</td>\n",
       "      <td>1</td>\n",
       "      <td>3</td>\n",
       "      <td>1.666667</td>\n",
       "      <td>True</td>\n",
       "      <td>3</td>\n",
       "    </tr>\n",
       "    <tr>\n",
       "      <th>4</th>\n",
       "      <td>-2aMphgYYnoxncuZ7xI3Gw</td>\n",
       "      <td>we went here for dinner saturday night during ...</td>\n",
       "      <td>4</td>\n",
       "      <td>5</td>\n",
       "      <td>4.333333</td>\n",
       "      <td>False</td>\n",
       "      <td>0</td>\n",
       "    </tr>\n",
       "  </tbody>\n",
       "</table>\n",
       "</div>"
      ],
      "text/plain": [
       "                       id                                          text_join  \\\n",
       "0  -0YTqofxupHzmd9SbKhjXw  despite how abundant the colombian food scene ...   \n",
       "1  -0rMc_wb4gi6_sai0SadsQ  went here for dinner just to try something new...   \n",
       "2  -2FAuHbWsc_rxuSaeYAhCw  simple things well executed can be beautiful. ...   \n",
       "3  -2KLOAWzJ-wbUSC40WR8EA  beware! we came here to kill some time while w...   \n",
       "4  -2aMphgYYnoxncuZ7xI3Gw  we went here for dinner saturday night during ...   \n",
       "\n",
       "   rating_min  rating_max  rating_mean  Reviews_Flag  Reviews_Flag_Count  \n",
       "0           4           5     4.666667          True                   3  \n",
       "1           4           5     4.333333         False                   0  \n",
       "2           3           5     4.000000         False                   0  \n",
       "3           1           3     1.666667          True                   3  \n",
       "4           4           5     4.333333         False                   0  "
      ]
     },
     "execution_count": 44,
     "metadata": {},
     "output_type": "execute_result"
    }
   ],
   "source": [
    "review.head()"
   ]
  },
  {
   "cell_type": "markdown",
   "id": "1b5a8b9a",
   "metadata": {},
   "source": [
    "## let's look at rating lower than 3, as the cluster modeling indicate the lower rating, the higher risk"
   ]
  },
  {
   "cell_type": "code",
   "execution_count": 13,
   "id": "998d3471",
   "metadata": {},
   "outputs": [],
   "source": [
    "import re\n",
    "\n",
    "for i in range(review.shape[1]):\n",
    "    text = re.sub('[^a-zA-Z]',' ',review.iloc[i, 1].lower())\n",
    "    review.iloc[i, 1] = text"
   ]
  },
  {
   "cell_type": "code",
   "execution_count": 14,
   "id": "77719123",
   "metadata": {},
   "outputs": [
    {
     "data": {
      "text/html": [
       "<div>\n",
       "<style scoped>\n",
       "    .dataframe tbody tr th:only-of-type {\n",
       "        vertical-align: middle;\n",
       "    }\n",
       "\n",
       "    .dataframe tbody tr th {\n",
       "        vertical-align: top;\n",
       "    }\n",
       "\n",
       "    .dataframe thead th {\n",
       "        text-align: right;\n",
       "    }\n",
       "</style>\n",
       "<table border=\"1\" class=\"dataframe\">\n",
       "  <thead>\n",
       "    <tr style=\"text-align: right;\">\n",
       "      <th></th>\n",
       "      <th>id</th>\n",
       "      <th>text_join</th>\n",
       "      <th>rating_min</th>\n",
       "      <th>rating_max</th>\n",
       "      <th>rating_mean</th>\n",
       "      <th>Reviews_Flag</th>\n",
       "      <th>Reviews_Flag_Count</th>\n",
       "    </tr>\n",
       "  </thead>\n",
       "  <tbody>\n",
       "    <tr>\n",
       "      <th>0</th>\n",
       "      <td>ytqofxuphzmd sbkhjxw</td>\n",
       "      <td>despite how abundant the colombian food scene ...</td>\n",
       "      <td>4</td>\n",
       "      <td>5</td>\n",
       "      <td>4.666667</td>\n",
       "      <td>True</td>\n",
       "      <td>3</td>\n",
       "    </tr>\n",
       "    <tr>\n",
       "      <th>1</th>\n",
       "      <td>rmc wb gi  sai sadsq</td>\n",
       "      <td>went here for dinner just to try something new...</td>\n",
       "      <td>4</td>\n",
       "      <td>5</td>\n",
       "      <td>4.333333</td>\n",
       "      <td>False</td>\n",
       "      <td>0</td>\n",
       "    </tr>\n",
       "    <tr>\n",
       "      <th>2</th>\n",
       "      <td>fauhbwsc rxusaeyahcw</td>\n",
       "      <td>simple things well executed can be beautiful  ...</td>\n",
       "      <td>3</td>\n",
       "      <td>5</td>\n",
       "      <td>4.000000</td>\n",
       "      <td>False</td>\n",
       "      <td>0</td>\n",
       "    </tr>\n",
       "    <tr>\n",
       "      <th>3</th>\n",
       "      <td>kloawzj wbusc  wr ea</td>\n",
       "      <td>beware  we came here to kill some time while w...</td>\n",
       "      <td>1</td>\n",
       "      <td>3</td>\n",
       "      <td>1.666667</td>\n",
       "      <td>True</td>\n",
       "      <td>3</td>\n",
       "    </tr>\n",
       "    <tr>\n",
       "      <th>4</th>\n",
       "      <td>amphgyynoxncuz xi gw</td>\n",
       "      <td>we went here for dinner saturday night during ...</td>\n",
       "      <td>4</td>\n",
       "      <td>5</td>\n",
       "      <td>4.333333</td>\n",
       "      <td>False</td>\n",
       "      <td>0</td>\n",
       "    </tr>\n",
       "    <tr>\n",
       "      <th>...</th>\n",
       "      <td>...</td>\n",
       "      <td>...</td>\n",
       "      <td>...</td>\n",
       "      <td>...</td>\n",
       "      <td>...</td>\n",
       "      <td>...</td>\n",
       "      <td>...</td>\n",
       "    </tr>\n",
       "    <tr>\n",
       "      <th>8195</th>\n",
       "      <td>zyiauY6dhZa8WVmLQ83M2A</td>\n",
       "      <td>i'm a chinatown local and this spot hits every...</td>\n",
       "      <td>5</td>\n",
       "      <td>5</td>\n",
       "      <td>5.000000</td>\n",
       "      <td>False</td>\n",
       "      <td>0</td>\n",
       "    </tr>\n",
       "    <tr>\n",
       "      <th>8196</th>\n",
       "      <td>zyyT2yiyxxamC-jKc0v-fg</td>\n",
       "      <td>haven't been here in years,  but remember  the...</td>\n",
       "      <td>2</td>\n",
       "      <td>5</td>\n",
       "      <td>3.333333</td>\n",
       "      <td>True</td>\n",
       "      <td>1</td>\n",
       "    </tr>\n",
       "    <tr>\n",
       "      <th>8197</th>\n",
       "      <td>zz0uxqMv5Ba1CTXKsbf6wg</td>\n",
       "      <td>my friend and i were looking to do outdoor din...</td>\n",
       "      <td>1</td>\n",
       "      <td>4</td>\n",
       "      <td>3.000000</td>\n",
       "      <td>False</td>\n",
       "      <td>0</td>\n",
       "    </tr>\n",
       "    <tr>\n",
       "      <th>8198</th>\n",
       "      <td>zzcUX6-fwxpVsRYG96f9Ig</td>\n",
       "      <td>the food here is bomb! came here on valentine'...</td>\n",
       "      <td>3</td>\n",
       "      <td>5</td>\n",
       "      <td>4.000000</td>\n",
       "      <td>False</td>\n",
       "      <td>0</td>\n",
       "    </tr>\n",
       "    <tr>\n",
       "      <th>8199</th>\n",
       "      <td>zzrm1Da_CuUU-X0wzPTCCQ</td>\n",
       "      <td>great spot for a quick breakfast. waitstaff wa...</td>\n",
       "      <td>1</td>\n",
       "      <td>4</td>\n",
       "      <td>2.333333</td>\n",
       "      <td>True</td>\n",
       "      <td>1</td>\n",
       "    </tr>\n",
       "  </tbody>\n",
       "</table>\n",
       "<p>8200 rows × 7 columns</p>\n",
       "</div>"
      ],
      "text/plain": [
       "                          id  \\\n",
       "0       ytqofxuphzmd sbkhjxw   \n",
       "1       rmc wb gi  sai sadsq   \n",
       "2       fauhbwsc rxusaeyahcw   \n",
       "3       kloawzj wbusc  wr ea   \n",
       "4       amphgyynoxncuz xi gw   \n",
       "...                      ...   \n",
       "8195  zyiauY6dhZa8WVmLQ83M2A   \n",
       "8196  zyyT2yiyxxamC-jKc0v-fg   \n",
       "8197  zz0uxqMv5Ba1CTXKsbf6wg   \n",
       "8198  zzcUX6-fwxpVsRYG96f9Ig   \n",
       "8199  zzrm1Da_CuUU-X0wzPTCCQ   \n",
       "\n",
       "                                              text_join  rating_min  \\\n",
       "0     despite how abundant the colombian food scene ...           4   \n",
       "1     went here for dinner just to try something new...           4   \n",
       "2     simple things well executed can be beautiful  ...           3   \n",
       "3     beware  we came here to kill some time while w...           1   \n",
       "4     we went here for dinner saturday night during ...           4   \n",
       "...                                                 ...         ...   \n",
       "8195  i'm a chinatown local and this spot hits every...           5   \n",
       "8196  haven't been here in years,  but remember  the...           2   \n",
       "8197  my friend and i were looking to do outdoor din...           1   \n",
       "8198  the food here is bomb! came here on valentine'...           3   \n",
       "8199  great spot for a quick breakfast. waitstaff wa...           1   \n",
       "\n",
       "      rating_max  rating_mean  Reviews_Flag  Reviews_Flag_Count  \n",
       "0              5     4.666667          True                   3  \n",
       "1              5     4.333333         False                   0  \n",
       "2              5     4.000000         False                   0  \n",
       "3              3     1.666667          True                   3  \n",
       "4              5     4.333333         False                   0  \n",
       "...          ...          ...           ...                 ...  \n",
       "8195           5     5.000000         False                   0  \n",
       "8196           5     3.333333          True                   1  \n",
       "8197           4     3.000000         False                   0  \n",
       "8198           5     4.000000         False                   0  \n",
       "8199           4     2.333333          True                   1  \n",
       "\n",
       "[8200 rows x 7 columns]"
      ]
     },
     "execution_count": 14,
     "metadata": {},
     "output_type": "execute_result"
    }
   ],
   "source": [
    "review"
   ]
  },
  {
   "cell_type": "code",
   "execution_count": 45,
   "id": "7d1ff5dc",
   "metadata": {},
   "outputs": [],
   "source": [
    "review[\"rating_mean\"] = review[\"rating_mean\"].apply(lambda x:1 if x <= 3 else 0) # ≤3 as risk"
   ]
  },
  {
   "cell_type": "code",
   "execution_count": 46,
   "id": "e253e24a",
   "metadata": {},
   "outputs": [],
   "source": [
    "negative_review = review[review[\"rating_mean\"] == 1] #1 - risk\n",
    "positive_review = review[review[\"rating_mean\"] == 0]"
   ]
  },
  {
   "cell_type": "code",
   "execution_count": 50,
   "id": "c4f45782",
   "metadata": {},
   "outputs": [
    {
     "data": {
      "text/plain": [
       "1576"
      ]
     },
     "execution_count": 50,
     "metadata": {},
     "output_type": "execute_result"
    }
   ],
   "source": [
    "negative_review['rating_mean'].isnull().count() # this is what we will be focus on"
   ]
  },
  {
   "cell_type": "code",
   "execution_count": 51,
   "id": "5adadf12",
   "metadata": {},
   "outputs": [
    {
     "data": {
      "text/plain": [
       "6624"
      ]
     },
     "execution_count": 51,
     "metadata": {},
     "output_type": "execute_result"
    }
   ],
   "source": [
    "positive_review['rating_mean'].isnull().count() "
   ]
  },
  {
   "cell_type": "code",
   "execution_count": 53,
   "id": "c591eff7",
   "metadata": {},
   "outputs": [
    {
     "data": {
      "text/plain": [
       "3       beware! we came here to kill some time while w...\n",
       "8       kids. kids. and more kids. loud kids. crying k...\n",
       "9       we ordered some dinner for delivery. the deliv...\n",
       "12      would have done 4.5 stars, but the interface w...\n",
       "20      i worked with pasha's staff and manager, rhea,...\n",
       "                              ...                        \n",
       "8184    currently closed for dining in. called ahead o...\n",
       "8191    this place is a simple good hole in the wall s...\n",
       "8193    fabulous food and service. one of the few rest...\n",
       "8197    my friend and i were looking to do outdoor din...\n",
       "8199    great spot for a quick breakfast. waitstaff wa...\n",
       "Name: text_join, Length: 1576, dtype: object"
      ]
     },
     "execution_count": 53,
     "metadata": {},
     "output_type": "execute_result"
    }
   ],
   "source": [
    "negative_review['text_join']"
   ]
  },
  {
   "cell_type": "code",
   "execution_count": 54,
   "id": "9383c1d0",
   "metadata": {},
   "outputs": [
    {
     "name": "stdout",
     "output_type": "stream",
     "text": [
      "['i', 'me', 'my', 'myself', 'we', 'our', 'ours', 'ourselves', 'you', \"you're\", \"you've\", \"you'll\", \"you'd\", 'your', 'yours', 'yourself', 'yourselves', 'he', 'him', 'his', 'himself', 'she', \"she's\", 'her', 'hers', 'herself', 'it', \"it's\", 'its', 'itself', 'they', 'them', 'their', 'theirs', 'themselves', 'what', 'which', 'who', 'whom', 'this', 'that', \"that'll\", 'these', 'those', 'am', 'is', 'are', 'was', 'were', 'be', 'been', 'being', 'have', 'has', 'had', 'having', 'do', 'does', 'did', 'doing', 'a', 'an', 'the', 'and', 'but', 'if', 'or', 'because', 'as', 'until', 'while', 'of', 'at', 'by', 'for', 'with', 'about', 'against', 'between', 'into', 'through', 'during', 'before', 'after', 'above', 'below', 'to', 'from', 'up', 'down', 'in', 'out', 'on', 'off', 'over', 'under', 'again', 'further', 'then', 'once', 'here', 'there', 'when', 'where', 'why', 'how', 'all', 'any', 'both', 'each', 'few', 'more', 'most', 'other', 'some', 'such', 'no', 'nor', 'not', 'only', 'own', 'same', 'so', 'than', 'too', 'very', 's', 't', 'can', 'will', 'just', 'don', \"don't\", 'should', \"should've\", 'now', 'd', 'll', 'm', 'o', 're', 've', 'y', 'ain', 'aren', \"aren't\", 'couldn', \"couldn't\", 'didn', \"didn't\", 'doesn', \"doesn't\", 'hadn', \"hadn't\", 'hasn', \"hasn't\", 'haven', \"haven't\", 'isn', \"isn't\", 'ma', 'mightn', \"mightn't\", 'mustn', \"mustn't\", 'needn', \"needn't\", 'shan', \"shan't\", 'shouldn', \"shouldn't\", 'wasn', \"wasn't\", 'weren', \"weren't\", 'won', \"won't\", 'wouldn', \"wouldn't\"]\n"
     ]
    }
   ],
   "source": [
    "print(stopwords.words('english'))"
   ]
  },
  {
   "cell_type": "code",
   "execution_count": 56,
   "id": "c8606c52",
   "metadata": {},
   "outputs": [],
   "source": [
    "import re # clean reviews\n",
    "\n",
    "for i in range(negative_review.shape[1]):\n",
    "    text = re.sub('[^a-zA-Z]',' ',negative_review.iloc[i, 1].lower())\n",
    "    negative_review.iloc[i, 1] = text   "
   ]
  },
  {
   "cell_type": "code",
   "execution_count": 55,
   "id": "0d4748dc",
   "metadata": {},
   "outputs": [],
   "source": [
    "for i in range(len(negative_review)):   #split words,exclude stopwords\n",
    "    text = negative_review.iloc[i, 1].split()\n",
    "    text = [word for word in text if word not in stopwords.words('english')]\n",
    "    text = ' '.join(text)\n",
    "    negative_review.iloc[i, 1] = text"
   ]
  },
  {
   "cell_type": "code",
   "execution_count": 58,
   "id": "fe0802bb",
   "metadata": {},
   "outputs": [
    {
     "data": {
      "text/plain": [
       "3       beware  came kill time waiting car serviced  m...\n",
       "8       kids  kids  kids  loud kids  crying kids  scre...\n",
       "9       ordered dinner delivery  delivery quick food h...\n",
       "12      would done     stars  interface allow it  i ve...\n",
       "20      worked pasha s staff manager  rhea  last week ...\n",
       "                              ...                        \n",
       "8184    currently closed dining in. called ahead satur...\n",
       "8191    place simple good hole wall spot. food tastes ...\n",
       "8193    fabulous food service. one restaurants table s...\n",
       "8197    friend looking outdoor dining mild december da...\n",
       "8199    great spot quick breakfast. waitstaff amazing ...\n",
       "Name: text_join, Length: 1576, dtype: object"
      ]
     },
     "execution_count": 58,
     "metadata": {},
     "output_type": "execute_result"
    }
   ],
   "source": [
    "negative_review['text_join']"
   ]
  },
  {
   "cell_type": "code",
   "execution_count": 59,
   "id": "9e63f14f",
   "metadata": {},
   "outputs": [],
   "source": [
    "pos_list = []  \n",
    "for i in range(len(negative_review)):\n",
    "     pos_list.append(negative_review.iloc[i, 1].split())"
   ]
  },
  {
   "cell_type": "code",
   "execution_count": 60,
   "id": "f6c2f91a",
   "metadata": {},
   "outputs": [],
   "source": [
    "pos_list = np.concatenate(pos_list).tolist() #list"
   ]
  },
  {
   "cell_type": "code",
   "execution_count": 61,
   "id": "477c7ae2",
   "metadata": {},
   "outputs": [],
   "source": [
    "from collections import Counter"
   ]
  },
  {
   "cell_type": "code",
   "execution_count": 62,
   "id": "46c53568",
   "metadata": {},
   "outputs": [],
   "source": [
    "pos_words = Counter(pos_list)"
   ]
  },
  {
   "cell_type": "code",
   "execution_count": 67,
   "id": "4c92718a",
   "metadata": {},
   "outputs": [
    {
     "data": {
      "text/plain": [
       "[('food', 977),\n",
       " ('place', 868),\n",
       " ('ordered', 696),\n",
       " ('order', 473),\n",
       " ('good', 471),\n",
       " ('like', 432),\n",
       " ('chicken', 397),\n",
       " ('one', 377),\n",
       " ('service', 359),\n",
       " ('got', 334),\n",
       " ('time', 329),\n",
       " ('great', 328),\n",
       " (\"i've\", 310),\n",
       " ('came', 302),\n",
       " ('restaurant', 291),\n",
       " ('get', 267),\n",
       " ('really', 257),\n",
       " ('the...', 256),\n",
       " ('go', 236),\n",
       " ('pizza', 224),\n",
       " ('give', 221),\n",
       " ('first', 207),\n",
       " (\"i'm\", 205),\n",
       " ('never', 202),\n",
       " ('went', 201),\n",
       " ('always', 191),\n",
       " ('food.', 177),\n",
       " ('even', 176),\n",
       " ('two', 174),\n",
       " ('-', 174),\n",
       " ('fried', 171),\n",
       " ('would', 167),\n",
       " ('last', 167),\n",
       " ('spot', 165),\n",
       " ('delivery', 162),\n",
       " ('take', 158),\n",
       " ('chinese', 155),\n",
       " ('come', 153),\n",
       " ('rice', 152),\n",
       " ('love', 152),\n",
       " ('best', 146),\n",
       " ('&', 146),\n",
       " ('pretty', 146),\n",
       " ('and...', 143),\n",
       " ('lunch', 142),\n",
       " ('nice', 142),\n",
       " ('staff', 140),\n",
       " ('decided', 139),\n",
       " ('could', 136),\n",
       " ('good.', 135)]"
      ]
     },
     "execution_count": 67,
     "metadata": {},
     "output_type": "execute_result"
    }
   ],
   "source": [
    "pos_words.most_common(50)  #top 50 common words"
   ]
  },
  {
   "cell_type": "code",
   "execution_count": null,
   "id": "166cb422",
   "metadata": {},
   "outputs": [],
   "source": []
  }
 ],
 "metadata": {
  "kernelspec": {
   "display_name": "Python 3 (ipykernel)",
   "language": "python",
   "name": "python3"
  },
  "language_info": {
   "codemirror_mode": {
    "name": "ipython",
    "version": 3
   },
   "file_extension": ".py",
   "mimetype": "text/x-python",
   "name": "python",
   "nbconvert_exporter": "python",
   "pygments_lexer": "ipython3",
   "version": "3.9.7"
  }
 },
 "nbformat": 4,
 "nbformat_minor": 5
}
